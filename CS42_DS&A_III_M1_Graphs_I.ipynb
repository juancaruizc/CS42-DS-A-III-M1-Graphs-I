{
  "nbformat": 4,
  "nbformat_minor": 0,
  "metadata": {
    "colab": {
      "name": "CS42: DS&A III: M1: Graphs I",
      "provenance": [],
      "include_colab_link": true
    },
    "kernelspec": {
      "name": "python3",
      "display_name": "Python 3"
    },
    "language_info": {
      "name": "python"
    }
  },
  "cells": [
    {
      "cell_type": "markdown",
      "metadata": {
        "id": "view-in-github",
        "colab_type": "text"
      },
      "source": [
        "<a href=\"https://colab.research.google.com/github/juancaruizc/CS42-DS-A-III-M1-Graphs-I/blob/main/CS42_DS%26A_III_M1_Graphs_I.ipynb\" target=\"_parent\"><img src=\"https://colab.research.google.com/assets/colab-badge.svg\" alt=\"Open In Colab\"/></a>"
      ]
    },
    {
      "cell_type": "markdown",
      "metadata": {
        "id": "R-3x9A6Y5UM6"
      },
      "source": [
        "# Graphs I\n",
        "\n",
        "**Attendance: 4709**\n",
        "\n",
        "More general versions of trees (which are more general versions of linked lists).\n",
        "\n",
        "No more restrictions!\n",
        "\n",
        "* Graph terminology\n",
        "  * Nodes, edges\n",
        "  * Directed/undirected\n",
        "  * Cyclic/Acyclic\n",
        "  * DAGs -- Directed Acyclic Graph\n",
        "* Graph representations\n",
        "  * Adjacency List\n",
        "  * Adjacency Matrix\n",
        "  * Other\n",
        "* Graph problems\n",
        "\n",
        "If you need more challenge this week: implement Dijkstra's Algorithm."
      ]
    },
    {
      "cell_type": "code",
      "metadata": {
        "id": "FLzIizFI5PTF"
      },
      "source": [
        "class ListNode:\n",
        "    def __init__(self, value):\n",
        "        self.value = value\n",
        "        self.next = None\n",
        "\n",
        "class TreeNode:\n",
        "    def __init__(self, value):\n",
        "        self.value = value\n",
        "        self.left = None\n",
        "        self.right = None\n",
        "\n",
        "class Node:  # For graphs\n",
        "    def __init__(self, value):\n",
        "        self.value = value\n",
        "        self.neighbors = []   # Adjacency List"
      ],
      "execution_count": null,
      "outputs": []
    },
    {
      "cell_type": "markdown",
      "metadata": {
        "id": "75E6doZ_DgfH"
      },
      "source": [
        "# Adjacency Matrix\n",
        "\n",
        "```\n",
        "  A B D E\n",
        "A 0 1 0 0\n",
        "B 0 0 1 1\n",
        "D 0 0 0 0\n",
        "E 1 0 0 0\n",
        "```\n",
        "\n",
        "```\n",
        "adjacency_matrix = [\n",
        "    [0, 1, 0, 0],\n",
        "    [0, 0, 1, 1],\n",
        "    [0, 0, 0, 0],\n",
        "    [1, 0, 0, 0],\n",
        "]\n",
        "```\n",
        "\n",
        "```\n",
        "def is_neighbor(x, y):   # is y a neighbor of x?\n",
        "    return adjacency_matrix[x][y] == 1\n",
        "\n",
        "def get_neighbors(x):\n",
        "    neighbors = []\n",
        "\n",
        "    for index, is_adj in enumerate(adjacency_matrix[x]):\n",
        "        if is_adj == 1:\n",
        "            neighbors.append(index)\n",
        "\n",
        "    return neighbors\n",
        "```\n"
      ]
    },
    {
      "cell_type": "code",
      "metadata": {
        "colab": {
          "base_uri": "https://localhost:8080/"
        },
        "id": "sjEV4x0lDqeJ",
        "outputId": "28fd739d-2edc-43df-e5b0-5c005b972949"
      },
      "source": [
        "root = TreeNode(5)\n",
        "root.left = TreeNode(3)\n",
        "root.right = TreeNode(7)\n",
        "root.left.left = TreeNode(1)\n",
        "root.left.right = TreeNode(4)\n",
        "root.right.right = TreeNode(9)\n",
        "\n",
        "def tree_dft(n):\n",
        "    if n is None:\n",
        "        return\n",
        "\n",
        "    print(n.value)\n",
        "\n",
        "    neighbors = [n.left, n.right]\n",
        "\n",
        "    for neighbor in neighbors:\n",
        "        tree_dft(neighbor)\n",
        "\n",
        "def get_neighbors(n):\n",
        "    neighbors = []\n",
        "    if n.left is not None:\n",
        "        neighbors.append(n.left)\n",
        "    if n.right is not None:\n",
        "        neighbors.append(n.right)\n",
        "\n",
        "    return neighbors\n",
        "\n",
        "def tree_dft_2(n):\n",
        "    print(n.value)\n",
        "\n",
        "    neighbors = get_neighbors(n)\n",
        "\n",
        "    for neighbor in neighbors:\n",
        "        tree_dft(neighbor)\n",
        "\n",
        "tree_dft_2(root)\n",
        "#tree_dft(root.left)"
      ],
      "execution_count": null,
      "outputs": [
        {
          "output_type": "stream",
          "text": [
            "5\n",
            "3\n",
            "1\n",
            "4\n",
            "7\n",
            "9\n"
          ],
          "name": "stdout"
        }
      ]
    },
    {
      "cell_type": "code",
      "metadata": {
        "colab": {
          "base_uri": "https://localhost:8080/"
        },
        "id": "1qsZPuPhI2Yo",
        "outputId": "15bb2e64-5c0f-4341-eaad-4bef873fabc0"
      },
      "source": [
        "class Node:  # For graphs\n",
        "    def __init__(self, value):\n",
        "        self.value = value\n",
        "        self.neighbors = []   # Adjacency List\n",
        "\n",
        "    def __repr__(self):\n",
        "        return f\"Node({repr(self.value)})\"\n",
        "\n",
        "node_A = Node(\"A\")\n",
        "node_B = Node(\"B\")\n",
        "node_C = Node(\"C\")\n",
        "node_D = Node(\"D\")\n",
        "node_E = Node(\"E\")\n",
        "\n",
        "node_A.neighbors = [node_B, node_C]\n",
        "node_B.neighbors = [node_E, node_D]\n",
        "node_C.neighbors = [node_D]\n",
        "\n",
        "#print(node_B.neighbors)\n",
        "\n",
        "def dft(n):\n",
        "    print(n.value)\n",
        "\n",
        "    for neighbor in n.neighbors:\n",
        "        dft(neighbor)\n",
        "\n",
        "dft(node_A)\n",
        "\n"
      ],
      "execution_count": null,
      "outputs": [
        {
          "output_type": "stream",
          "text": [
            "A\n",
            "B\n",
            "E\n",
            "D\n",
            "C\n",
            "D\n"
          ],
          "name": "stdout"
        }
      ]
    },
    {
      "cell_type": "code",
      "metadata": {
        "colab": {
          "base_uri": "https://localhost:8080/"
        },
        "id": "rhpiHjgKL2ot",
        "outputId": "5f21b0cb-7da3-4ccc-c066-91b1558efbac"
      },
      "source": [
        "class Stack:\n",
        "    def __init__(self):\n",
        "        self.stack = []\n",
        "\n",
        "    def push(self, value):\n",
        "        self.stack.append(value)\n",
        "\n",
        "    def pop(self):\n",
        "        return self.stack.pop()\n",
        "\n",
        "    def is_empty(self):\n",
        "        return self.stack == []\n",
        "\n",
        "\n",
        "def dft_stack(n):\n",
        "    to_visit = Stack()\n",
        "\n",
        "    to_visit.push(n)\n",
        "\n",
        "    while not to_visit.is_empty():\n",
        "        cur = to_visit.pop()\n",
        "\n",
        "        print(cur.value)\n",
        "\n",
        "        for neighbor in cur.neighbors:\n",
        "            to_visit.push(neighbor)\n",
        "\n",
        "dft_stack(node_A)"
      ],
      "execution_count": null,
      "outputs": [
        {
          "output_type": "stream",
          "text": [
            "A\n",
            "C\n",
            "D\n",
            "B\n",
            "D\n",
            "E\n"
          ],
          "name": "stdout"
        }
      ]
    },
    {
      "cell_type": "code",
      "metadata": {
        "colab": {
          "base_uri": "https://localhost:8080/"
        },
        "id": "Iu5e0i1lM3nM",
        "outputId": "b66d2b23-d5b4-41f7-bdc4-eda7c10e6cdc"
      },
      "source": [
        "class Queue:\n",
        "    def __init__(self):\n",
        "        self.queue = []\n",
        "\n",
        "    def enqueue(self, value):\n",
        "        self.queue.append(value)\n",
        "\n",
        "    def dequeue(self):\n",
        "        return self.queue.pop(0)  # TODO replace with something O(1)\n",
        "\n",
        "    def is_empty(self):\n",
        "        return self.queue == []\n",
        "\n",
        "\n",
        "def bft(n):\n",
        "    to_visit = Queue()\n",
        "\n",
        "    to_visit.enqueue(n)\n",
        "\n",
        "    while not to_visit.is_empty():\n",
        "        cur = to_visit.dequeue()\n",
        "\n",
        "        print(cur.value)\n",
        "\n",
        "        for neighbor in cur.neighbors:\n",
        "            to_visit.enqueue(neighbor)\n",
        "\n",
        "bft(node_A)\n"
      ],
      "execution_count": null,
      "outputs": [
        {
          "output_type": "stream",
          "text": [
            "A\n",
            "B\n",
            "C\n",
            "E\n",
            "D\n",
            "D\n"
          ],
          "name": "stdout"
        }
      ]
    },
    {
      "cell_type": "markdown",
      "metadata": {
        "id": "9cdZlG1JQmCr"
      },
      "source": [
        "# Challenge\n",
        "\n",
        "In a town, there are `N` people labelled from `1` to `N`. There is a rumor that one of these people is secretly the town judge.\n",
        "\n",
        "If the town judge exists, then:\n",
        "\n",
        "1. The town judge trusts nobody.\n",
        "2. Everybody (except for the town judge) trusts the town judge.\n",
        "3. There is exactly one person that satisfies properties 1 and 2.\n",
        "\n",
        "You are given `trust`, an array of pairs `trust[i] = [a, b]` representing that the person labelled `a` trusts the person labelled `b`.\n",
        "\n",
        "If the town judge exists and can be identified, return the label of the town judge. Otherwise, return `-1`.\n",
        "\n",
        "```\n",
        "Input: N = 4, trust = [[1,3],[1,4],[2,3],[2,4],[4,3]]\n",
        "Output: 3\n",
        "```\n",
        "\n",
        "Adj Matrix:\n",
        "```\n",
        "    1  2  3  4\n",
        "\n",
        "1   0  0  1  1\n",
        "2   0  0  1  1\n",
        "3   0  0  0  0\n",
        "4   0  0  1  0\n",
        "```\n",
        "\n",
        "Adj List:\n",
        "```\n",
        "1: 3 4\n",
        "2: 3 4\n",
        "3:\n",
        "4: 3\n",
        "```"
      ]
    },
    {
      "cell_type": "code",
      "metadata": {
        "colab": {
          "base_uri": "https://localhost:8080/"
        },
        "id": "belNQQkVQltK",
        "outputId": "cc50cb77-174d-42f8-a48a-592bbf4b141c"
      },
      "source": [
        "def find_judge(n, trust):\n",
        "    # Let's build an adjacency list from trust\n",
        "    t = {}\n",
        "\n",
        "    for i in range(1, n+1):\n",
        "        t[i] = []\n",
        "    print(t)\n",
        "\n",
        "    for truster, trustee in trust:\n",
        "        t[truster].append(trustee)\n",
        "\n",
        "    print(t)\n",
        "\n",
        "\n",
        "    # for each person\n",
        "    for i in range(1, n+1):\n",
        "        # if they trust no one (have no neighbors)\n",
        "        if t[i] == []:\n",
        "            # might be the judge\n",
        "            print(f\"{i} might be the judge\")\n",
        "\n",
        "            truster_count = 0\n",
        "            for j in range(1, n+1):\n",
        "                if i in t[j]:\n",
        "                    truster_count += 1\n",
        "\n",
        "            # if every other node has the candidate as neighbor\n",
        "            if truster_count == n - 1:\n",
        "                # they are the judge\n",
        "                return i\n",
        "\n",
        "    # If we get here, there's no judge\n",
        "    return -1\n",
        "\n",
        "\n",
        "\n",
        "#Input: N = 4, trust = [[1,3],[1,4],[2,3],[2,4],[4,3]]\n",
        "\n",
        "{\n",
        " 1: [3,4],  # 1 trusts...\n",
        " 2: [3,4],  # 2 trusts...\n",
        " 3: [],     # 3 trusts...\n",
        " 4: [3],    # 4 trusts...\n",
        "}\n",
        "\n",
        "print(find_judge(4, [[1,3],[1,4],[2,3],[2,4],[4,3]]))   # Output: 3\n",
        "\n",
        "print(find_judge(3, [[1,3],[1,2]]))  # Output -1"
      ],
      "execution_count": null,
      "outputs": [
        {
          "output_type": "stream",
          "text": [
            "{1: [], 2: [], 3: [], 4: []}\n",
            "{1: [3, 4], 2: [3, 4], 3: [], 4: [3]}\n",
            "3 might be the judge\n",
            "3\n",
            "{1: [], 2: [], 3: []}\n",
            "{1: [3, 2], 2: [], 3: []}\n",
            "2 might be the judge\n",
            "3 might be the judge\n",
            "-1\n"
          ],
          "name": "stdout"
        }
      ]
    }
  ]
}